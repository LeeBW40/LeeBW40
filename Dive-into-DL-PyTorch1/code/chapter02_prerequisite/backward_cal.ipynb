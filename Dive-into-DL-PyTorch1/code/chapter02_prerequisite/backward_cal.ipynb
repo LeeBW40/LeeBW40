{
 "cells": [
  {
   "cell_type": "code",
   "execution_count": 1,
   "metadata": {
    "collapsed": true,
    "ExecuteTime": {
     "start_time": "2025-02-23T20:25:56.197452Z",
     "end_time": "2025-02-23T20:25:59.103904Z"
    }
   },
   "outputs": [
    {
     "name": "stdout",
     "output_type": "stream",
     "text": [
      "x.grad: tensor([720.])\n",
      "w1.grad: tensor([480.])\n",
      "b1.grad: tensor([240.])\n",
      "w2.grad: tensor([420.])\n",
      "b2.grad: tensor([60.])\n"
     ]
    }
   ],
   "source": [
    "import torch\n",
    "\n",
    "# 创建示例数据\n",
    "x = torch.tensor([2.0], requires_grad=True)\n",
    "w1 = torch.tensor([3.0], requires_grad=True)\n",
    "b1 = torch.tensor([1.0], requires_grad=True)\n",
    "w2 = torch.tensor([4.0], requires_grad=True)\n",
    "b2 = torch.tensor([2.0], requires_grad=True)\n",
    "\n",
    "# 前向传播\n",
    "h = w1 * x + b1\n",
    "out = w2 * h + b2\n",
    "\n",
    "# 假设损失函数是 out 的平方\n",
    "loss = out ** 2\n",
    "\n",
    "# 反向传播\n",
    "loss.backward()\n",
    "\n",
    "# 打印梯度\n",
    "print('x.grad:', x.grad)\n",
    "print('w1.grad:', w1.grad)\n",
    "print('b1.grad:', b1.grad)\n",
    "print('w2.grad:', w2.grad)\n",
    "print('b2.grad:', b2.grad)"
   ]
  },
  {
   "cell_type": "code",
   "execution_count": null,
   "outputs": [],
   "source": [],
   "metadata": {
    "collapsed": false
   }
  }
 ],
 "metadata": {
  "kernelspec": {
   "display_name": "Python 3",
   "language": "python",
   "name": "python3"
  },
  "language_info": {
   "codemirror_mode": {
    "name": "ipython",
    "version": 2
   },
   "file_extension": ".py",
   "mimetype": "text/x-python",
   "name": "python",
   "nbconvert_exporter": "python",
   "pygments_lexer": "ipython2",
   "version": "2.7.6"
  }
 },
 "nbformat": 4,
 "nbformat_minor": 0
}
